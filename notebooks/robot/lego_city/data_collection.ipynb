{
 "cells": [
  {
   "cell_type": "code",
   "execution_count": 1,
   "metadata": {},
   "outputs": [],
   "source": [
    "import traitlets\n",
    "import os\n",
    "from jetbot import Camera, bgr8_to_jpeg\n",
    "import ipywidgets.widgets as widgets\n",
    "from IPython.display import display\n",
    "from uuid import uuid1\n",
    "import json"
   ]
  },
  {
   "cell_type": "code",
   "execution_count": 2,
   "metadata": {},
   "outputs": [
    {
     "data": {
      "application/vnd.jupyter.widget-view+json": {
       "model_id": "87ac3a587a374d0ba5d6a69d1fdc876e",
       "version_major": 2,
       "version_minor": 0
      },
      "text/plain": [
       "Image(value=b'\\xff\\xd8\\xff\\xe0\\x00\\x10JFIF\\x00\\x01\\x01\\x00\\x00\\x01\\x00\\x01\\x00\\x00\\xff\\xdb\\x00C\\x00\\x02\\x01\\x0…"
      ]
     },
     "metadata": {},
     "output_type": "display_data"
    }
   ],
   "source": [
    "camera = Camera.instance(width=224, height=224)\n",
    "\n",
    "image_widget = widgets.Image(format='jpeg', width=300, height=300)\n",
    "\n",
    "traitlets.dlink((camera, 'value'), (image_widget, 'value'), transform=bgr8_to_jpeg)\n",
    "\n",
    "display(image_widget)"
   ]
  },
  {
   "cell_type": "code",
   "execution_count": 7,
   "metadata": {},
   "outputs": [
    {
     "data": {
      "application/vnd.jupyter.widget-view+json": {
       "model_id": "755ea8876a4f485d9c3eadd82e3af4e5",
       "version_major": 2,
       "version_minor": 0
      },
      "text/plain": [
       "Controller(index=1)"
      ]
     },
     "metadata": {},
     "output_type": "display_data"
    }
   ],
   "source": [
    "controller = widgets.Controller(index=1)\n",
    "\n",
    "display(controller)"
   ]
  },
  {
   "cell_type": "code",
   "execution_count": 6,
   "metadata": {},
   "outputs": [],
   "source": [
    "DATASET_DIR = 'dataset'\n",
    "IMAGES_DIR = os.path.join(DATASET_DIR, 'images')\n",
    "LABELS_DIR = os.path.join(DATASET_DIR, 'labels')\n",
    "\n",
    "# we have this \"try/except\" statement because these next functions can throw an error if the directories exist already\n",
    "try:\n",
    "    os.makedirs(IMAGES_DIR)\n",
    "    os.makedirs(LABELS_DIR)\n",
    "except FileExistsError:\n",
    "    print('Directories not created becasue they already exist')"
   ]
  },
  {
   "cell_type": "code",
   "execution_count": 8,
   "metadata": {},
   "outputs": [
    {
     "data": {
      "application/vnd.jupyter.widget-view+json": {
       "model_id": "51e84a055ecb4b569abaa0d2c38b6061",
       "version_major": 2,
       "version_minor": 0
      },
      "text/plain": [
       "HBox(children=(Image(value=b'\\xff\\xd8\\xff\\xe0\\x00\\x10JFIF\\x00\\x01\\x01\\x00\\x00\\x01\\x00\\x01\\x00\\x00\\xff\\xdb\\x00C…"
      ]
     },
     "metadata": {},
     "output_type": "display_data"
    },
    {
     "data": {
      "application/vnd.jupyter.widget-view+json": {
       "model_id": "bc6d2f625fa746ae92b2220b85682e58",
       "version_major": 2,
       "version_minor": 0
      },
      "text/plain": [
       "VBox(children=(FloatSlider(value=0.0, description='steering', max=1.0, min=-1.0, step=0.001), FloatSlider(valu…"
      ]
     },
     "metadata": {},
     "output_type": "display_data"
    },
    {
     "data": {
      "application/vnd.jupyter.widget-view+json": {
       "model_id": "0dcc36970d9a47ba91aa9015c69c6de1",
       "version_major": 2,
       "version_minor": 0
      },
      "text/plain": [
       "IntText(value=63, description='count')"
      ]
     },
     "metadata": {},
     "output_type": "display_data"
    }
   ],
   "source": [
    "for b in controller.buttons:\n",
    "    b.unobserve_all()\n",
    "for a in controller.axes:\n",
    "    a.unobserve_all()\n",
    "\n",
    "# get controller buttons / axes\n",
    "save_button = controller.buttons[5]\n",
    "left_button = controller.buttons[14]\n",
    "forward_button = controller.buttons[12]\n",
    "right_button = controller.buttons[15]\n",
    "steering_axis = controller.axes[2]\n",
    "\n",
    "# attach steering axis to widget since it's easier to visualize horizontally\n",
    "steering_widget = widgets.FloatSlider(min=-1.0, max=1.0, step=0.001, description='steering')\n",
    "widgets.jslink((steering_axis, 'value'), (steering_widget, 'value'))\n",
    "\n",
    "# create widgets that will display the annotation to be saved\n",
    "snapshot_widget = widgets.Image(format='jpeg', width=300, height=300)\n",
    "left_steering = widgets.FloatSlider(min=-1.0, max=1.0, step=0.001, description='left steering')\n",
    "forward_steering = widgets.FloatSlider(min=-1.0, max=1.0, step=0.001, description='forward steering')\n",
    "right_steering = widgets.FloatSlider(min=-1.0, max=1.0, step=0.001, description='right steering')\n",
    "\n",
    "def get_count():\n",
    "    return len(os.listdir(LABELS_DIR))\n",
    "\n",
    "\n",
    "count_widget = widgets.IntText(description='count', value=get_count())\n",
    "\n",
    "\n",
    "def set_left(c):\n",
    "    if c['new']:\n",
    "        left_steering.value = steering_widget.value\n",
    "\n",
    "def set_right(c):\n",
    "    if c['new']:\n",
    "        right_steering.value = steering_widget.value\n",
    "\n",
    "def set_forward(c):\n",
    "    if c['new']:\n",
    "        forward_steering.value = steering_widget.value\n",
    "    \n",
    "def save(c):\n",
    "    if c['new']:\n",
    "        snapshot_widget.value = image_widget.value\n",
    "        \n",
    "        uuid = str(uuid1())\n",
    "        image_name = uuid + '.jpg'\n",
    "        image_path = os.path.join(IMAGES_DIR, image_name)\n",
    "        label_path = os.path.join(LABELS_DIR, uuid + '.json')\n",
    "\n",
    "        with open(image_path, 'wb') as f:\n",
    "            f.write(snapshot_widget.value)\n",
    "\n",
    "        label = {\n",
    "            'image': image_name,\n",
    "            'left_steering': left_steering.value,\n",
    "            'forward_steering': forward_steering.value,\n",
    "            'right_steering': right_steering.value\n",
    "        }\n",
    "\n",
    "        with open(label_path, 'w') as f:\n",
    "            json.dump(label, f)\n",
    "\n",
    "        count_widget.value = get_count()\n",
    "        \n",
    "\n",
    "left_button.observe(set_left, names='value')\n",
    "forward_button.observe(set_forward, names='value')\n",
    "right_button.observe(set_right, names='value')\n",
    "save_button.observe(save, names='value')\n",
    "\n",
    "\n",
    "display(\n",
    "  widgets.HBox([image_widget, snapshot_widget]),\n",
    "  widgets.VBox([steering_widget, left_steering, forward_steering, right_steering]),\n",
    "  count_widget\n",
    ")"
   ]
  },
  {
   "cell_type": "code",
   "execution_count": 9,
   "metadata": {},
   "outputs": [],
   "source": [
    "!zip -r -q lego_city.zip dataset"
   ]
  }
 ],
 "metadata": {
  "kernelspec": {
   "display_name": "Python 3",
   "language": "python",
   "name": "python3"
  },
  "language_info": {
   "codemirror_mode": {
    "name": "ipython",
    "version": 3
   },
   "file_extension": ".py",
   "mimetype": "text/x-python",
   "name": "python",
   "nbconvert_exporter": "python",
   "pygments_lexer": "ipython3",
   "version": "3.6.7"
  }
 },
 "nbformat": 4,
 "nbformat_minor": 2
}
