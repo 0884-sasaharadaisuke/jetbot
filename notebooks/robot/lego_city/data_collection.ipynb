{
 "cells": [
  {
   "cell_type": "code",
   "execution_count": 4,
   "metadata": {},
   "outputs": [],
   "source": [
    "import traitlets\n",
    "import os\n",
    "from jetbot import Camera, bgr8_to_jpeg\n",
    "import ipywidgets.widgets as widgets\n",
    "from IPython.display import display\n",
    "from uuid import uuid1\n",
    "import json\n",
    "import glob"
   ]
  },
  {
   "cell_type": "code",
   "execution_count": 5,
   "metadata": {},
   "outputs": [
    {
     "data": {
      "application/vnd.jupyter.widget-view+json": {
       "model_id": "58931808d9974c5083bae49ebd2b7673",
       "version_major": 2,
       "version_minor": 0
      },
      "text/plain": [
       "Image(value=b'\\xff\\xd8\\xff\\xe0\\x00\\x10JFIF\\x00\\x01\\x01\\x00\\x00\\x01\\x00\\x01\\x00\\x00\\xff\\xdb\\x00C\\x00\\x02\\x01\\x0…"
      ]
     },
     "metadata": {},
     "output_type": "display_data"
    }
   ],
   "source": [
    "camera = Camera.instance(width=224, height=224)\n",
    "\n",
    "image_widget = widgets.Image(format='jpeg', width=300, height=300)\n",
    "\n",
    "traitlets.dlink((camera, 'value'), (image_widget, 'value'), transform=bgr8_to_jpeg)\n",
    "\n",
    "display(image_widget)"
   ]
  },
  {
   "cell_type": "code",
   "execution_count": 17,
   "metadata": {},
   "outputs": [
    {
     "data": {
      "application/vnd.jupyter.widget-view+json": {
       "model_id": "f9a61a963a5e4398b805b0a4e2cc2fdf",
       "version_major": 2,
       "version_minor": 0
      },
      "text/plain": [
       "Controller(index=1)"
      ]
     },
     "metadata": {},
     "output_type": "display_data"
    }
   ],
   "source": [
    "controller = widgets.Controller(index=1)\n",
    "\n",
    "display(controller)"
   ]
  },
  {
   "cell_type": "markdown",
   "metadata": {},
   "source": [
    "# Collect steering data"
   ]
  },
  {
   "cell_type": "code",
   "execution_count": 18,
   "metadata": {},
   "outputs": [
    {
     "name": "stdout",
     "output_type": "stream",
     "text": [
      "Directories not created becasue they already exist\n"
     ]
    },
    {
     "data": {
      "application/vnd.jupyter.widget-view+json": {
       "model_id": "287ffc943f474a959e1f9fee0a038d88",
       "version_major": 2,
       "version_minor": 0
      },
      "text/plain": [
       "HBox(children=(Image(value=b'\\xff\\xd8\\xff\\xe0\\x00\\x10JFIF\\x00\\x01\\x01\\x00\\x00\\x01\\x00\\x01\\x00\\x00\\xff\\xdb\\x00C…"
      ]
     },
     "metadata": {},
     "output_type": "display_data"
    },
    {
     "data": {
      "application/vnd.jupyter.widget-view+json": {
       "model_id": "8340162b7734434989457ef2a1d1067e",
       "version_major": 2,
       "version_minor": 0
      },
      "text/plain": [
       "HBox(children=(IntText(value=76, layout=Layout(align_self='center', width='80px')), IntText(value=77, layout=L…"
      ]
     },
     "metadata": {},
     "output_type": "display_data"
    },
    {
     "data": {
      "application/vnd.jupyter.widget-view+json": {
       "model_id": "858512521b114a92baf7bf5a7fb13af1",
       "version_major": 2,
       "version_minor": 0
      },
      "text/plain": [
       "HBox(children=(Button(description='left', layout=Layout(align_self='center', height='80px', width='80px'), sty…"
      ]
     },
     "metadata": {},
     "output_type": "display_data"
    }
   ],
   "source": [
    "DATASET_DIR = 'dataset_all'\n",
    "#DATASET_DIR = 'dataset_left'\n",
    "#DATASET_DIR = 'dataset_forward'\n",
    "#DATASET_DIR = 'dataset_right'\n",
    "\n",
    "LEFT_DIR = os.path.join(DATASET_DIR, 'left')\n",
    "FORWARD_DIR = os.path.join(DATASET_DIR, 'forward')\n",
    "RIGHT_DIR = os.path.join(DATASET_DIR, 'right')\n",
    "\n",
    "# we have this \"try/except\" statement because these next functions can throw an error if the directories exist already\n",
    "try:\n",
    "    os.makedirs(LEFT_DIR)\n",
    "    os.makedirs(FORWARD_DIR)\n",
    "    os.makedirs(RIGHT_DIR)\n",
    "except FileExistsError:\n",
    "    print('Directories not created becasue they already exist')\n",
    "\n",
    "    \n",
    "\n",
    "for b in controller.buttons:\n",
    "    b.unobserve_all()\n",
    "for a in controller.axes:\n",
    "    a.unobserve_all()\n",
    "    \n",
    "layout_btn = widgets.Layout(width='80px', height='80px', align_self='center')\n",
    "# get controller buttons / axes\n",
    "left_button = widgets.Button(description='left', layout=layout_btn)\n",
    "def click_left(c):\n",
    "    if c['new']:\n",
    "        left_button.click()\n",
    "controller.buttons[14].observe(click_left, names='value')\n",
    "\n",
    "forward_button = widgets.Button(description='forward', layout=layout_btn)\n",
    "def click_forward(c):\n",
    "    if c['new']:\n",
    "        forward_button.click()\n",
    "controller.buttons[12].observe(click_forward, names='value')\n",
    "\n",
    "right_button = widgets.Button(description='right', layout=layout_btn)\n",
    "def click_right(c):\n",
    "    if c['new']:\n",
    "        right_button.click()\n",
    "controller.buttons[15].observe(click_right, names='value')\n",
    "\n",
    "\n",
    "# create widgets that will display the annotation to be saved\n",
    "snapshot_widget = widgets.Image(format='jpeg', width=300, height=300)\n",
    "\n",
    "def get_left_count():\n",
    "    return len(glob.glob(os.path.join(LEFT_DIR, '*.jpg')))\n",
    "\n",
    "def get_forward_count():\n",
    "    return len(glob.glob(os.path.join(FORWARD_DIR, '*.jpg')))\n",
    "               \n",
    "def get_right_count():\n",
    "    return len(glob.glob(os.path.join(RIGHT_DIR, '*.jpg')))\n",
    "\n",
    "layout_cnt = widgets.Layout(width='80px', align_self='center')\n",
    "left_count_widget = widgets.IntText(value=get_left_count(), layout=layout_cnt)\n",
    "forward_count_widget = widgets.IntText(value=get_forward_count(), layout=layout_cnt, button_style='success')\n",
    "right_count_widget = widgets.IntText(value=get_right_count(), layout=layout_cnt)\n",
    "\n",
    "def save_left(c):\n",
    "    save(LEFT_DIR)\n",
    "\n",
    "def save_right(c):\n",
    "    save(RIGHT_DIR)\n",
    "\n",
    "def save_forward(c):\n",
    "    save(FORWARD_DIR)\n",
    "    \n",
    "def save(directory):\n",
    "    uuid = str(uuid1())\n",
    "    image_name = uuid + '.jpg'\n",
    "    image_path = os.path.join(directory, image_name)\n",
    "\n",
    "    snapshot_widget.value = image_widget.value\n",
    "    \n",
    "    with open(image_path, 'wb') as f:\n",
    "        f.write(snapshot_widget.value)\n",
    "               \n",
    "    left_count_widget.value = get_left_count()\n",
    "    right_count_widget.value = get_right_count()\n",
    "    forward_count_widget.value = get_forward_count()\n",
    "        \n",
    "\n",
    "left_button.on_click(save_left)\n",
    "forward_button.on_click(save_forward)\n",
    "right_button.on_click(save_right)\n",
    "\n",
    "\n",
    "display(\n",
    "  widgets.HBox([image_widget, snapshot_widget]),\n",
    "  widgets.HBox([left_count_widget, forward_count_widget, right_count_widget]),\n",
    "  widgets.HBox([left_button, forward_button, right_button])\n",
    ")"
   ]
  },
  {
   "cell_type": "code",
   "execution_count": 63,
   "metadata": {},
   "outputs": [],
   "source": [
    "!zip -r -q lego_city_{DATASET_DIR}_{uuid1()}.zip {DATASET_DIR}"
   ]
  },
  {
   "cell_type": "markdown",
   "metadata": {},
   "source": [
    "# Label the 7 block configurations"
   ]
  },
  {
   "cell_type": "code",
   "execution_count": 58,
   "metadata": {},
   "outputs": [],
   "source": [
    "import copy"
   ]
  },
  {
   "cell_type": "code",
   "execution_count": 64,
   "metadata": {},
   "outputs": [
    {
     "data": {
      "application/vnd.jupyter.widget-view+json": {
       "model_id": "465718242e1f4d708316442a06119b2f",
       "version_major": 2,
       "version_minor": 0
      },
      "text/plain": [
       "HBox(children=(VBox(children=(Image(value=b'\\xff\\xd8\\xff\\xe0\\x00\\x10JFIF\\x00\\x01\\x01\\x01\\x00`\\x00`\\x00\\x00\\xff…"
      ]
     },
     "metadata": {},
     "output_type": "display_data"
    }
   ],
   "source": [
    "THUMBNAIL_DIR = 'thumbnails'\n",
    "BLOCKS_DATASET_DIR = 'dataset_blocks'\n",
    "\n",
    "class_names = [\n",
    "    'cross',\n",
    "    'left',\n",
    "    'right',\n",
    "    'straight',\n",
    "    't_left',\n",
    "    't_right',\n",
    "    't_straight'\n",
    "]\n",
    "\n",
    "\n",
    "def get_count(name):\n",
    "    return len(glob.glob(os.path.join(BLOCKS_DATASET_DIR, name, '*.jpg')))\n",
    "\n",
    "\n",
    "class Saver(object):\n",
    "    \n",
    "    def __init__(self, name, count_widget):\n",
    "        self.name = name\n",
    "        self.count_widget = count_widget\n",
    "        \n",
    "    def save(self, x):\n",
    "        image_path = os.path.join(BLOCKS_DATASET_DIR, self.name, str(uuid1()) + '.jpg')\n",
    "        with open(image_path, 'wb') as f:\n",
    "            f.write(image_widget.value)\n",
    "        self.count_widget.value = get_count(self.name)\n",
    "        \n",
    "    \n",
    "# create thumbnail widgets\n",
    "class_widgets = []\n",
    "button_widgets = []\n",
    "count_widgets = []\n",
    "for i, name in enumerate(class_names):\n",
    "    # create directory for class\n",
    "    try:\n",
    "        os.makedirs(os.path.join(BLOCKS_DATASET_DIR, name))\n",
    "    except:\n",
    "        pass\n",
    "    \n",
    "    # get thumbnail widget\n",
    "    thumbnail_widget = widgets.Image(format='jpeg', width=80, height=80)\n",
    "    thumbnail_path = os.path.join(THUMBNAIL_DIR, name + '.jpg')\n",
    "    with open(thumbnail_path, 'rb') as f:\n",
    "        thumbnail_widget.value = f.read()\n",
    "    \n",
    "    # get count widget\n",
    "    count_layout = widgets.Layout(width='80px')\n",
    "    count_widget = widgets.IntText(layout=count_layout)\n",
    "    \n",
    "    # get button\n",
    "    button_layout = widgets.Layout(width='80px', height='50px')\n",
    "    button_widget = widgets.Button(description=name, layout=button_layout)\n",
    "    \n",
    "    saver = Saver(name, count_widget)\n",
    "    \n",
    "    button_widget.on_click(saver.save)\n",
    "    \n",
    "    class_widget = widgets.VBox([\n",
    "        thumbnail_widget,\n",
    "        count_widget,\n",
    "        button_widget,\n",
    "    ])\n",
    "    \n",
    "    class_widgets.append(class_widget)\n",
    "\n",
    "display(widgets.HBox(class_widgets))"
   ]
  },
  {
   "cell_type": "code",
   "execution_count": 65,
   "metadata": {},
   "outputs": [],
   "source": [
    "!zip -r -q lego_city_{BLOCKS_DATASET_DIR}_{uuid1()}.zip {BLOCKS_DATASET_DIR}"
   ]
  }
 ],
 "metadata": {
  "kernelspec": {
   "display_name": "Python 3",
   "language": "python",
   "name": "python3"
  },
  "language_info": {
   "codemirror_mode": {
    "name": "ipython",
    "version": 3
   },
   "file_extension": ".py",
   "mimetype": "text/x-python",
   "name": "python",
   "nbconvert_exporter": "python",
   "pygments_lexer": "ipython3",
   "version": "3.6.7"
  }
 },
 "nbformat": 4,
 "nbformat_minor": 2
}
