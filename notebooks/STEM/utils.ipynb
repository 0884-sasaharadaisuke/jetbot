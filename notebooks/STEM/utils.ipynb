{
 "cells": [
  {
   "cell_type": "markdown",
   "metadata": {},
   "source": [
    "Wifiへの接続"
   ]
  },
  {
   "cell_type": "code",
   "execution_count": null,
   "metadata": {},
   "outputs": [
    {
     "name": "stdout",
     "output_type": "stream",
     "text": [
      "[sudo] password for jetbot: "
     ]
    }
   ],
   "source": [
    "!sudo nmcli device wifi connect 'testtest' password '11111111' ifname wlan0"
   ]
  },
  {
   "cell_type": "code",
   "execution_count": 10,
   "metadata": {},
   "outputs": [
    {
     "ename": "NameError",
     "evalue": "name 'jetbot' is not defined",
     "output_type": "error",
     "traceback": [
      "\u001b[0;31m---------------------------------------------------------------------------\u001b[0m",
      "\u001b[0;31mNameError\u001b[0m                                 Traceback (most recent call last)",
      "\u001b[0;32m<ipython-input-10-eb95c09294f3>\u001b[0m in \u001b[0;36m<module>\u001b[0;34m\u001b[0m\n\u001b[0;32m----> 1\u001b[0;31m \u001b[0mjetbot\u001b[0m\u001b[0;34m\u001b[0m\u001b[0;34m\u001b[0m\u001b[0m\n\u001b[0m",
      "\u001b[0;31mNameError\u001b[0m: name 'jetbot' is not defined"
     ]
    }
   ],
   "source": []
  },
  {
   "cell_type": "code",
   "execution_count": 14,
   "metadata": {},
   "outputs": [
    {
     "name": "stdout",
     "output_type": "stream",
     "text": [
      ":0.0\n"
     ]
    }
   ],
   "source": [
    "import os\n",
    "import subprocess\n",
    "os.environ['DISPLAY'] = \":0.0\"\n",
    "print(os.environ['DISPLAY'])"
   ]
  },
  {
   "cell_type": "code",
   "execution_count": 15,
   "metadata": {},
   "outputs": [
    {
     "name": "stdout",
     "output_type": "stream",
     "text": [
      "Screen 0: minimum 8 x 8, current 1280 x 720, maximum 16384 x 16384\n",
      "HDMI-0 connected primary 1280x720+0+0 (normal left inverted right x axis y axis) 700mm x 390mm\n",
      "   1280x720      60.00*+  59.94    50.00  \n",
      "   1920x1080     60.00    59.95    50.00  \n",
      "   1440x900      84.85    74.99    59.89  \n",
      "   1280x1024     75.03  \n",
      "   1024x768      75.03    70.07    60.01  \n",
      "   800x600       75.00    72.19    60.32    56.25  \n",
      "   720x576       50.00  \n",
      "   720x480       59.94  \n",
      "   720x400       70.04  \n",
      "   640x480       75.00    72.81    59.94  \n",
      "DP-0 disconnected (normal left inverted right x axis y axis)\n"
     ]
    }
   ],
   "source": [
    "!xrandr"
   ]
  },
  {
   "cell_type": "code",
   "execution_count": null,
   "metadata": {},
   "outputs": [],
   "source": []
  }
 ],
 "metadata": {
  "kernelspec": {
   "display_name": "Python 3",
   "language": "python",
   "name": "python3"
  },
  "language_info": {
   "codemirror_mode": {
    "name": "ipython",
    "version": 3
   },
   "file_extension": ".py",
   "mimetype": "text/x-python",
   "name": "python",
   "nbconvert_exporter": "python",
   "pygments_lexer": "ipython3",
   "version": "3.6.7"
  }
 },
 "nbformat": 4,
 "nbformat_minor": 2
}
