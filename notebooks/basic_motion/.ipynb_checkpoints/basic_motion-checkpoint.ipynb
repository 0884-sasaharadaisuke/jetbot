{
 "cells": [
  {
   "cell_type": "markdown",
   "metadata": {},
   "source": [
    "# Basic Motion\n",
    "\n",
    "WJetBotブラウザベースのプログラム実行環境へようこそ。テキストやソースコード、グラフィックの表示が1つにまとまった*Jupyter Notebook*です。*Jupyter*に馴染みがない人は、トップバーから、``Help``のドロップダウンメニューをクリックしてください。そこに、*Jupyer*上でプログラミングをするために役に立つリファレンスが記載されています。\n",
    "\n",
    "このノートブックは、JetBotの制御の基本をカバーしています。\n",
    "\n",
    "### Importing the Robot class(Robotクラスのimport)\n",
    "\n",
    "JetBotのプログラミングを始めるにあたって、``Robot``クラスをImportします。このクラスを取り込む事で、Robotのモーター制御を簡単におこなえます。``Robot``クラスは、``jetbot``パッケージに含まれています。\n",
    "\n",
    "> もし、Pythonが始めたなら、*package*は、codeファイル郡が含まれたフォルダーになります。これらのCodeファイル郡を*module*と読んでいます。\n",
    "\n",
    "``Robot``クラスをimportするために、セルを選択し、``ctrl + center``を入力するか``play``アイコンを選択します。これで、セルの中に含まれるコードが実行されます。"
   ]
  },
  {
   "cell_type": "code",
   "execution_count": 1,
   "metadata": {},
   "outputs": [],
   "source": [
    "from jetbot import Robot"
   ]
  },
  {
   "cell_type": "markdown",
   "metadata": {},
   "source": [
    "これで、``Robot``クラスがimportされ、下記のようにクラスの**インスタンス**として初期化をおこなえます。"
   ]
  },
  {
   "cell_type": "code",
   "execution_count": 2,
   "metadata": {},
   "outputs": [],
   "source": [
    "robot = Robot()"
   ]
  },
  {
   "cell_type": "markdown",
   "metadata": {},
   "source": [
    "### Commanding the robot(Robotをコマンドで制御)"
   ]
  },
  {
   "cell_type": "markdown",
   "metadata": {},
   "source": [
    "``Robot``インスタンスを作成し、*robot*という名付けました。ロボットを制御するために、このインスタンスを使います。マックススピードの30%で反時計回りに回転させるために、下記のように変数を呼び出します。\n",
    "\n",
    "> 注意: 下記のコマンドでロボットが動きだします。ロボットの周りにスペースがある事を確認してください。"
   ]
  },
  {
   "cell_type": "code",
   "execution_count": 3,
   "metadata": {},
   "outputs": [],
   "source": [
    "robot.left(speed=0.3)"
   ]
  },
  {
   "cell_type": "markdown",
   "metadata": {},
   "source": [
    "すばらしい、あなたはロボットを反時計回りに回転できました。\n",
    "\n",
    "> もし、ロボットが左側に回転しなかったら、モーターの配線が逆になっているかもしれません。Robotの電源を落とし、間違っている側の``赤``と``黒``の配線の指し先を逆にしてみてください。\n",
    ">\n",
    "> ケーブルのチェックは常に気をつけてください。システムが起動中は、ケーブルの配線は変えないように!\n",
    "\n",
    "それでは、``stop``メソッドを呼び出し、ロボットを停止します。"
   ]
  },
  {
   "cell_type": "code",
   "execution_count": 4,
   "metadata": {},
   "outputs": [],
   "source": [
    "robot.stop()"
   ]
  },
  {
   "cell_type": "markdown",
   "metadata": {},
   "source": [
    "決まりきった時間だけロボットを走らせたいかもしれません。その場合は、Pythonの``time``パッケージを使用します。"
   ]
  },
  {
   "cell_type": "code",
   "execution_count": 5,
   "metadata": {},
   "outputs": [],
   "source": [
    "import time"
   ]
  },
  {
   "cell_type": "markdown",
   "metadata": {},
   "source": [
    " このパッケージには、次のコマンドの実行まで、指定した秒数の間だけコード実行がブロックさせる事ができる``sleep``関数が定義されています。0.5秒の間だけ、Robotを右回転させるために、下記コードを実行します。"
   ]
  },
  {
   "cell_type": "code",
   "execution_count": 6,
   "metadata": {},
   "outputs": [],
   "source": [
    "robot.left(0.3)\n",
    "time.sleep(0.5)\n",
    "robot.stop()"
   ]
  },
  {
   "cell_type": "markdown",
   "metadata": {},
   "source": [
    "すばらしい、これで、ちょっとの間、ロボットを右回転し、止める事ができるようになりましたね。\n",
    "\n",
    "> ``left``メソッドの引数の``speed=``では何が起こっているか疑問がわきましたか？ Pythonは、関数のパラメーターをそれらに変数名か、独自の変数名(名前を特定しなくても)で、渡す事ができます。\n",
    "\n",
    "``BasicJetbot``クラスは、``right``や``forward``や``backwards``メソッドを使用できます。1秒間、50%のスピードで前方に移動するために、新しいセルを作成しましょう。\n",
    "\n",
    "``b``キーを押すか、``+``アイコンを選択すると、下側に、セルが選択された状態の新しいセルが生成されます。セルが生成されたら、JetBotを1秒間 50%のスピードで前方に進ませるためのコードをタイプしてみましょう。"
   ]
  },
  {
   "cell_type": "markdown",
   "metadata": {},
   "source": [
    "### Controlling motors individually(モーターをそれぞれ制御する)\n",
    "\n",
    "上の例では、``left``や``right``などのコマンドを使ってRobotを制御する方法をやってみました。左右のモーターのSpeedをそれぞれ設定したら、どうなるでしょう？ それには、2つのやり方があります。\n",
    "\n",
    "1つめの方法は、``set_motors``メソッドを呼び出す方法です。例として、左30%、右60%にでモーターの値を設定し、2秒間ほど、左方向にアーチを描くように動かしてみます。"
   ]
  },
  {
   "cell_type": "code",
   "execution_count": 7,
   "metadata": {},
   "outputs": [],
   "source": [
    "robot.set_motors(0.3, 0.6)\n",
    "time.sleep(1.0)\n",
    "robot.stop()"
   ]
  },
  {
   "cell_type": "markdown",
   "metadata": {},
   "source": [
    "すばらしい! 右方向にアーチを描くように動かせましたね、しかし、実際は、同じ事を達成するのに、違う方法をつかう事もできます。\n",
    "\n",
    "``Robot``クラスは、2つのそれぞれのモーターを形取る``left_motor``と``right_motor``という属性を持っています。これらの属性は、``Motor``クラスのインタンスで、それぞれに、``value``という属性を含んでいます。この``value``という属性は、新しい値がアサインされたときに、``events``が生成される[traitlet](https://github.com/ipython/traitlets)(https://github.com/ipython/traitlets) で定義されています。モータークラスの中で、値が変更されるとモーターコマンドがUpdateされる関数がアタッチされます。\n",
    "\n",
    "そのため、下記を実行すると、まったく同じ事が達成できます。下記を実行しましょう。"
   ]
  },
  {
   "cell_type": "code",
   "execution_count": 8,
   "metadata": {},
   "outputs": [],
   "source": [
    "robot.left_motor.value = 0.3\n",
    "robot.right_motor.value = 0.6\n",
    "time.sleep(1.0)\n",
    "robot.left_motor.value = 0.0\n",
    "robot.right_motor.value = 0.0"
   ]
  },
  {
   "cell_type": "markdown",
   "metadata": {},
   "source": [
    "同じ方法で、ロボットを動かしていきましょう。"
   ]
  },
  {
   "cell_type": "markdown",
   "metadata": {},
   "source": [
    "### Link motors to traitlets(Traitletsにモーターを紐付ける)"
   ]
  },
  {
   "cell_type": "markdown",
   "metadata": {},
   "source": [
    "[traitlets](https://github.com/ipython/traitlets)の本当にいけている機能として、他のtraitletsに紐付ける事ができる事にあります! Jupyter Notebook内で、trailetsを使う事で、グラフィカルな``widgets``を作ることが可能になり、とても便利です。ブラウザからのコントロールする``widgets``とモーターを紐付けたり、値のビジュアルに紐付けたりが可能となる。\n",
    "\n",
    "これをどのようにすればいいかを示してみます。モーターをコントロール可能なサイドバーを作成し、表示してみましょう。"
   ]
  },
  {
   "cell_type": "code",
   "execution_count": 10,
   "metadata": {},
   "outputs": [
    {
     "data": {
      "application/vnd.jupyter.widget-view+json": {
       "model_id": "e74d98fe2aec4e5bac37f3810b01856e",
       "version_major": 2,
       "version_minor": 0
      },
      "text/plain": [
       "HBox(children=(FloatSlider(value=0.0, description='left', max=1.0, min=-1.0, orientation='vertical', step=0.01…"
      ]
     },
     "metadata": {},
     "output_type": "display_data"
    }
   ],
   "source": [
    "import ipywidgets.widgets as widgets\n",
    "from IPython.display import display\n",
    "\n",
    "# create two sliders with range [-1.0, 1.0]\n",
    "left_slider = widgets.FloatSlider(description='left', min=-1.0, max=1.0, step=0.01, orientation='vertical')\n",
    "right_slider = widgets.FloatSlider(description='right', min=-1.0, max=1.0, step=0.01, orientation='vertical')\n",
    "\n",
    "# create a horizontal box container to place the sliders next to eachother\n",
    "slider_container = widgets.HBox([left_slider, right_slider])\n",
    "\n",
    "# display the container in this cell's output\n",
    "display(slider_container)"
   ]
  },
  {
   "cell_type": "markdown",
   "metadata": {},
   "source": [
    "2つの``vertical``なサイドバーを下側に表示できたでしょう。\n",
    "\n",
    "> 訳にたつTip: Juputer Labでは、セパレートWindowの中にセルのアウトプットをポンと出す事ができる。notebookには接続したままで、分けて表示できる。セルの出力の上で右クリックを押し、表示されたメニューから``Create New View Output``を選択する。あなたが心じよいと思う場所に、ドラッグして移動できます。\n",
    "\n",
    "sliders upとdownをクリックしドラッグしてみてください。 今の段階では、slidersを移動しても、何もおきません。まだ、モーターに接続をしていないためです。traitletsパッケージの``link``関数を使って、関連づけをします。"
   ]
  },
  {
   "cell_type": "code",
   "execution_count": 11,
   "metadata": {},
   "outputs": [],
   "source": [
    "import traitlets\n",
    "\n",
    "left_link = traitlets.link((left_slider, 'value'), (robot.left_motor, 'value'))\n",
    "right_link = traitlets.link((right_slider, 'value'), (robot.right_motor, 'value'))"
   ]
  },
  {
   "cell_type": "markdown",
   "metadata": {},
   "source": [
    "slidersをドラックしてみてください、それぞれのモーターが回転し始めます。\n",
    "\n",
    "実際に生成された``link``関数は、双方向リンクになっています。これの意味するところは、モーターの値を変更したかったら、siliderをUpdateしてください。下のブロックのコードを実行します。"
   ]
  },
  {
   "cell_type": "code",
   "execution_count": 12,
   "metadata": {},
   "outputs": [],
   "source": [
    "robot.forward(0.3)\n",
    "time.sleep(1.0)\n",
    "robot.stop()"
   ]
  },
  {
   "cell_type": "markdown",
   "metadata": {},
   "source": [
    "モーターコマンドレスポンスもslidersに反映されます。もし、コネクションを削除したい場合は、``unkinl``メソッドをそれぞれ呼び出します。"
   ]
  },
  {
   "cell_type": "code",
   "execution_count": 13,
   "metadata": {},
   "outputs": [],
   "source": [
    "left_link.unlink()\n",
    "right_link.unlink()"
   ]
  },
  {
   "cell_type": "markdown",
   "metadata": {},
   "source": [
    "しかし、もし双方向リンクは必要としない場合、。モーターの値を表示するためにsliderを使う事もできる。そのために``dlink``関数を使います。左側が``source``で右側が``target``になります。　"
   ]
  },
  {
   "cell_type": "code",
   "execution_count": 14,
   "metadata": {},
   "outputs": [],
   "source": [
    "left_link = traitlets.dlink((robot.left_motor, 'value'), (left_slider, 'value'))\n",
    "right_link = traitlets.dlink((robot.right_motor, 'value'), (right_slider, 'value'))"
   ]
  },
  {
   "cell_type": "markdown",
   "metadata": {},
   "source": [
    "sliderを動かしてみてください。robotは反応しなくなります。違う方法でモーターの値を変更すると、sliderの位置はUpdateされてその値が表示されます。"
   ]
  },
  {
   "cell_type": "markdown",
   "metadata": {},
   "source": [
    "### Attach functions to events(イベントを関数に対応づける)"
   ]
  },
  {
   "cell_type": "markdown",
   "metadata": {},
   "source": [
    "traitletsを使とは違う方法として、関数をイベントに対応づける事も可能です。これらの関数は、objectが変更されるたびに、呼び出されます。``old``や``new``のように変化の情報も送られます。\n",
    "\n",
    "ロボットをコントロールするボタンを作成し、表示しましょう。"
   ]
  },
  {
   "cell_type": "code",
   "execution_count": 15,
   "metadata": {},
   "outputs": [
    {
     "data": {
      "application/vnd.jupyter.widget-view+json": {
       "model_id": "159b5b32c45a4e7b9f4e2abc721d8b85",
       "version_major": 2,
       "version_minor": 0
      },
      "text/plain": [
       "VBox(children=(Button(description='forward', layout=Layout(align_self='center', height='80px', width='100px'),…"
      ]
     },
     "metadata": {},
     "output_type": "display_data"
    }
   ],
   "source": [
    "# create buttons\n",
    "button_layout = widgets.Layout(width='100px', height='80px', align_self='center')\n",
    "stop_button = widgets.Button(description='stop', button_style='danger', layout=button_layout)\n",
    "forward_button = widgets.Button(description='forward', layout=button_layout)\n",
    "backward_button = widgets.Button(description='backward', layout=button_layout)\n",
    "left_button = widgets.Button(description='left', layout=button_layout)\n",
    "right_button = widgets.Button(description='right', layout=button_layout)\n",
    "\n",
    "# display buttons\n",
    "middle_box = widgets.HBox([left_button, stop_button, right_button], layout=widgets.Layout(align_self='center'))\n",
    "controls_box = widgets.VBox([forward_button, middle_box, backward_button])\n",
    "display(controls_box)"
   ]
  },
  {
   "cell_type": "markdown",
   "metadata": {},
   "source": [
    "下側にRobot Controlのセットが表示されたでしょう。でも、まだ何も反応しません。ボタンの``on_click``イベントに関連するいくつかの関数を作成する必要があります。"
   ]
  },
  {
   "cell_type": "code",
   "execution_count": 17,
   "metadata": {},
   "outputs": [],
   "source": [
    "def stop(change):\n",
    "    robot.stop()\n",
    "    \n",
    "def step_forward(change):\n",
    "    robot.forward(0.4)\n",
    "    time.sleep(0.5)\n",
    "    robot.stop()\n",
    "\n",
    "def step_backward(change):\n",
    "    robot.backward(0.4)\n",
    "    time.sleep(0.5)\n",
    "    robot.stop()\n",
    "\n",
    "def step_left(change):\n",
    "    robot.left(0.3)\n",
    "    time.sleep(0.5)\n",
    "    robot.stop()\n",
    "\n",
    "def step_right(change):\n",
    "    robot.right(0.3)\n",
    "    time.sleep(0.5)\n",
    "    robot.stop()"
   ]
  },
  {
   "cell_type": "markdown",
   "metadata": {},
   "source": [
    "これで関数が定義できました。こららの関数に、on-clickイベントでそれぞれのボタンを対応づけます。"
   ]
  },
  {
   "cell_type": "code",
   "execution_count": 18,
   "metadata": {},
   "outputs": [],
   "source": [
    "# link buttons to actions\n",
    "stop_button.on_click(stop)\n",
    "forward_button.on_click(step_forward)\n",
    "backward_button.on_click(step_backward)\n",
    "left_button.on_click(step_left)\n",
    "right_button.on_click(step_right)"
   ]
  },
  {
   "cell_type": "markdown",
   "metadata": {},
   "source": [
    "それぞれのボタンをクリックすると、Robotが動いたでしょう!"
   ]
  },
  {
   "cell_type": "markdown",
   "metadata": {},
   "source": [
    "### Heartbeat Killswitch\n",
    "\n",
    "ここでは、動いているロボットを止めるための'heartbeat'との接続方法について解説します。これは、ロボットとのコミュニケーションが有効な場合に、シンプルに特定する方法です。あなたは、ハートビートの期間を短縮するには、下記のスライダーを下げます。もし、ブラウザ間の双方向のコミュニケーションが、2つのheartbeatの中で生成できなかったらheartbeatの'`status`'属性が、``dead``にセットされます。コネクションが復元されるとすぐに、heartbeatの'`status`'属性が、``alive``に変わります。"
   ]
  },
  {
   "cell_type": "code",
   "execution_count": 19,
   "metadata": {},
   "outputs": [
    {
     "data": {
      "application/vnd.jupyter.widget-view+json": {
       "model_id": "fb75adaa4e4f46958a0815e8ad12152d",
       "version_major": 2,
       "version_minor": 0
      },
      "text/plain": [
       "FloatSlider(value=0.5, description='period', max=0.5, min=0.001, step=0.01)"
      ]
     },
     "metadata": {},
     "output_type": "display_data"
    },
    {
     "data": {
      "application/vnd.jupyter.widget-view+json": {
       "model_id": "b0b753bdec8f4e0fabdd3e9cf2c23ff6",
       "version_major": 2,
       "version_minor": 0
      },
      "text/plain": [
       "FloatText(value=1575860091.8858695)"
      ]
     },
     "metadata": {},
     "output_type": "display_data"
    }
   ],
   "source": [
    "from jetbot import Heartbeat\n",
    "\n",
    "heartbeat = Heartbeat()\n",
    "\n",
    "# this function will be called when heartbeat 'alive' status changes\n",
    "def handle_heartbeat_status(change):\n",
    "    if change['new'] == Heartbeat.Status.dead:\n",
    "        robot.stop()\n",
    "        \n",
    "heartbeat.observe(handle_heartbeat_status, names='status')\n",
    "\n",
    "period_slider = widgets.FloatSlider(description='period', min=0.001, max=0.5, step=0.01, value=0.5)\n",
    "traitlets.dlink((period_slider, 'value'), (heartbeat, 'period'))\n",
    "\n",
    "display(period_slider, heartbeat.pulseout)"
   ]
  },
  {
   "cell_type": "markdown",
   "metadata": {},
   "source": [
    "下記のコードを実行し、sliderを下げるとどうなるかみてみます。また、ロボットとPCを切断するとどうなるかみてみます。"
   ]
  },
  {
   "cell_type": "code",
   "execution_count": 20,
   "metadata": {},
   "outputs": [],
   "source": [
    "robot.left(0.2) \n",
    "\n",
    "# now lower the `period` slider above until the network heartbeat can't be satisfied"
   ]
  },
  {
   "cell_type": "markdown",
   "metadata": {},
   "source": [
    "### Conclusion\n",
    "\n",
    "notebookの例は以上です。これで、ロボットをプログラムして、動き回れせることができると自信を持っていただければ幸いです。"
   ]
  }
 ],
 "metadata": {
  "kernelspec": {
   "display_name": "Python 3",
   "language": "python",
   "name": "python3"
  },
  "language_info": {
   "codemirror_mode": {
    "name": "ipython",
    "version": 3
   },
   "file_extension": ".py",
   "mimetype": "text/x-python",
   "name": "python",
   "nbconvert_exporter": "python",
   "pygments_lexer": "ipython3",
   "version": "3.6.7"
  }
 },
 "nbformat": 4,
 "nbformat_minor": 2
}
