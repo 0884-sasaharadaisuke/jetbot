{
 "cells": [
  {
   "cell_type": "markdown",
   "metadata": {},
   "source": [
    "# Basic Motion\n",
    "\n",
    "Welcome to JetBot's browser based programming interface!  This document is\n",
    "called a *Jupyter Notebook*, which combines text, code, and graphic\n",
    "display all in one!  Prett neat, huh? If you're unfamiliar with *Jupyter* we suggest clicking the \n",
    "``Help`` drop down menu in the top toolbar.  This has useful references for\n",
    "programming with *Jupyter*. \n",
    "\n",
    "In this notebook, we'll cover the basics of controlling JetBot. \n",
    "\n",
    "(訳) JetBotブラウザベースのプログラム実行環境へようこそ。テキストやソースコード、グラフィックの表示が1つにまとまった*Jupyter Notebook*です。*Jupyter*に馴染みがない人は、トップバーから、``Help``のドロップダウンメニューをクリックしてください。そこに、*Jupyer*上でプログラミングをするために役に立つリファレンスが記載されています。\n",
    "\n",
    "このノートブックは、JetBotの制御の基本をカバーしています。\n",
    "\n",
    "### Importing the Robot class(Robotクラスのimport)\n",
    "\n",
    "To get started programming JetBot, we'll need to import the ``Robot`` class.  This class\n",
    "allows us to easily control the robot's motors!  This is contained in the ``jetbot`` package.\n",
    "\n",
    "(訳) JetBotのプログラミングを始めるにあたって、``Robot``クラスをImportします。このクラスを取り込む事で、Robotのモーター制御を簡単におこなえます。``Robot``クラスは、``jetbot``パッケージに含まれています。\n",
    "\n",
    "> If you're new to Python, a *package* is essentially a folder containing \n",
    "> code files.  These code files are called *modules*.\n",
    "\n",
    "> (訳) もし、Pythonが始めたなら、*package*は、codeファイル郡が含まれたフォルダーになります。これらのCodeファイル郡を*module*と読んでいます。\n",
    "\n",
    "To import the ``Robot`` class, highlight the cell below and press ``ctrl + enter`` or the ``play`` icon above.\n",
    "This will execute the code contained in the cell\n",
    "\n",
    "(訳) ``Robot``クラスをimportするために、セルを選択し、``ctrl + center``を入力するか``play``アイコンを選択します。これで、セルの中に含まれるコードが実行されます。"
   ]
  },
  {
   "cell_type": "code",
   "execution_count": null,
   "metadata": {},
   "outputs": [],
   "source": [
    "from jetbot import Robot"
   ]
  },
  {
   "cell_type": "markdown",
   "metadata": {},
   "source": [
    "Now that we've imported the ``Robot`` class we can initialize the class *instance* as follows. \n",
    "\n",
    "(訳)これで、``Robot``クラスがimportされ、下記のようにクラスの**インスタンス**として初期化をおこなえます。"
   ]
  },
  {
   "cell_type": "code",
   "execution_count": null,
   "metadata": {},
   "outputs": [],
   "source": [
    "robot = Robot()"
   ]
  },
  {
   "cell_type": "markdown",
   "metadata": {},
   "source": [
    "### Commanding the robot(Robotをコマンドで制御)"
   ]
  },
  {
   "cell_type": "markdown",
   "metadata": {},
   "source": [
    "Now that we've created our ``Robot`` instance we named \"robot\", we can use this instance\n",
    "to control the robot.  To make the robot spin counterclockwise at 30% of it's max speed\n",
    "we can call the following\n",
    "\n",
    "(訳)``Robot``インスタンスを作成し、*robot*という名付けました。ロボットを制御するために、このインスタンスを使います。マックススピードの30%で反時計回りに回転させるために、下記のように変数を呼び出します。\n",
    "\n",
    "> WARNING:  This next command will make the robot move!  Please make sure the robot has clearance.\n",
    "\n",
    "> (訳)注意: 下記のコマンドでロボットが動きだします。ロボットの周りにスペースがある事を確認してください。"
   ]
  },
  {
   "cell_type": "code",
   "execution_count": null,
   "metadata": {},
   "outputs": [],
   "source": [
    "robot.left(speed=0.3)"
   ]
  },
  {
   "cell_type": "markdown",
   "metadata": {},
   "source": [
    "Cool, you should see the robot spin counterclockwise!\n",
    "\n",
    "(訳) すばらしい、あなたはロボットを反時計回りに回転できました。\n",
    "\n",
    "> If your robot didn't turn left, that means one of the motors is wired backwards!  Try powering down your\n",
    "> robot and swapping the terminals that the ``red`` and ``black`` cables of the incorrect motor.\n",
    "> \n",
    "> REMINDER: Always be careful to check your wiring, and don't change the wiring on a running system!\n",
    "\n",
    "> (訳) もし、ロボットが左側に回転しなかったら、モーターの配線が逆になっているかもしれません。Robotの電源を落とし、間違っている側の``赤``と``黒``の配線の指し先を逆にしてみてください。\n",
    ">\n",
    "> ケーブルのチェックは常に気をつけてください。システムが起動中は、ケーブルの配線は変えないように!\n",
    "\n",
    "Now, to stop the robot you can call the ``stop`` method.\n",
    "\n",
    "(訳) それでは、``stop``メソッドを呼び出し、ロボットを停止します。"
   ]
  },
  {
   "cell_type": "code",
   "execution_count": null,
   "metadata": {},
   "outputs": [],
   "source": [
    "robot.stop()"
   ]
  },
  {
   "cell_type": "markdown",
   "metadata": {},
   "source": [
    "Maybe we only want to run the robot for a set period of time.  For that, we can use the Python ``time`` package.  \n",
    "\n",
    "(訳) 決まりきった時間だけロボットを走らせたいかもしれません。その場合は、Pythonの``time``パッケージを使用します。"
   ]
  },
  {
   "cell_type": "code",
   "execution_count": null,
   "metadata": {},
   "outputs": [],
   "source": [
    "import time"
   ]
  },
  {
   "cell_type": "markdown",
   "metadata": {},
   "source": [
    "This package defines the ``sleep`` function, which causes the code execution to block for the specified number of seconds\n",
    "before running the next command.  Try the following to make the robot turn left only for half a second.\n",
    "\n",
    "(訳) このパッケージには、次のコマンドの実行まで、指定した秒数の間だけコード実行がブロックさせる事ができる``sleep``関数が定義されています。0.5秒の間だけ、Robotを右回転させるために、下記コードを実行します。"
   ]
  },
  {
   "cell_type": "code",
   "execution_count": null,
   "metadata": {},
   "outputs": [],
   "source": [
    "robot.left(0.3)\n",
    "time.sleep(0.5)\n",
    "robot.stop()"
   ]
  },
  {
   "cell_type": "markdown",
   "metadata": {},
   "source": [
    "Great.  You should see the robot turn left for a bit and then stop.\n",
    "\n",
    "(訳) すばらしい、これで、ちょっとの間、ロボットを右回転し、止める事ができるようになりましたね。\n",
    "\n",
    "> Wondering what happened to the ``speed=`` inside the ``left`` method?  Python allows \n",
    "> us to set function parameters by either their name, or the order that they are defined\n",
    "> (without specifying the name).\n",
    "\n",
    "> (訳) ``left``メソッドの引数の``speed=``では何が起こっているか疑問がわきましたか？ Pythonは、関数のパラメーターをそれらに変数名か、独自の変数名(名前を特定しなくても)で、渡す事ができます。\n",
    "\n",
    "The ``BasicJetbot`` class also has the methods ``right``, ``forward``, and ``backwards``.  Try creating your own cell to make\n",
    "the robot move forward at 50% speed for one second.\n",
    "\n",
    "(訳) ``BasicJetbot``クラスは、``right``や``forward``や``backwards``メソッドを使用できます。1秒間、50%のスピードで前方に移動するために、新しいセルを作成しましょう。\n",
    "\n",
    "Create a new cell by highlighting an existing cell and pressing ``b`` or the ``+`` icon above.  Once you've done that, type in the code that you think will make the robot move forward at 50% speed for one second.\n",
    "\n",
    "(訳) ``b``キーを押すか、``+``アイコンを選択すると、下側に、セルが選択された状態の新しいセルが生成されます。セルが生成されたら、JetBotを1秒間 50%のスピードで前方に進ませるためのコードをタイプしてみましょう。"
   ]
  },
  {
   "cell_type": "markdown",
   "metadata": {},
   "source": [
    "### Controlling motors individually(モーターをそれぞれ制御する)\n",
    "\n",
    "Above we saw how we can control the robot using commands like ``left``, ``right``, etc.  But what if we want to set each motor speed \n",
    "individually?  Well, there are two ways you can do this\n",
    "\n",
    "(訳) 上の例では、``left``や``right``などのコマンドを使ってRobotを制御する方法をやってみました。左右のモーターのSpeedをそれぞれ設定したら、どうなるでしょう？ それには、2つのやり方があります。\n",
    "\n",
    "The first way is to call the ``set_motors`` method.  For example, to turn along a left arch for a second we could set the left motor to 30% and the right motor to 60% like follows.\n",
    "\n",
    "(訳)1つめの方法は、``set_motors``メソッドを呼び出す方法です。例として、左30%、右60%にでモーターの値を設定し、2秒間ほど、左方向にアーチを描くように動かしてみます。"
   ]
  },
  {
   "cell_type": "code",
   "execution_count": null,
   "metadata": {},
   "outputs": [],
   "source": [
    "robot.set_motors(0.3, 0.6)\n",
    "time.sleep(1.0)\n",
    "robot.stop()"
   ]
  },
  {
   "cell_type": "markdown",
   "metadata": {},
   "source": [
    "Great!  You should see the robot move along a left arch.  But actually, there's another way that we could accomplish the same thing.\n",
    "\n",
    "(訳)すばらしい! 右方向にアーチを描くように動かせましたね、しかし、実際は、同じ事を達成するのに、違う方法をつかう事もできます。\n",
    "\n",
    "The ``Robot`` class has two attributes named ``left_motor`` and ``right_motor`` that represent each motor individually.\n",
    "These attributes are ``Motor`` class instances, each which contains a ``value`` attribute.  This ``value`` attribute\n",
    "is a [traitlet](https://github.com/ipython/traitlets) which generates ``events`` when assigned a new value.  In the motor\n",
    "class, we attach a function that updates the motor commands whenever the value changes.\n",
    "\n",
    "(訳) ``Robot``クラスは、2つのそれぞれのモーターを形取る``left_motor``と``right_motor``という属性を持っています。これらの属性は、``Motor``クラスのインタンスで、それぞれに、``value``という属性を含んでいます。この``value``という属性は、新しい値がアサインされたときに、``events``が生成される[traitlet](https://github.com/ipython/traitlets)(https://github.com/ipython/traitlets) で定義されています。モータークラスの中で、値が変更されるとモーターコマンドがUpdateされる関数がアタッチされます。\n",
    "\n",
    "So, to accomplish the exact same thing we did above, we could execute the following.\n",
    "\n",
    "(訳)そのため、下記を実行すると、まったく同じ事が達成できます。下記を実行しましょう。"
   ]
  },
  {
   "cell_type": "code",
   "execution_count": null,
   "metadata": {},
   "outputs": [],
   "source": [
    "robot.left_motor.value = 0.3\n",
    "robot.right_motor.value = 0.6\n",
    "time.sleep(1.0)\n",
    "robot.left_motor.value = 0.0\n",
    "robot.right_motor.value = 0.0"
   ]
  },
  {
   "cell_type": "markdown",
   "metadata": {},
   "source": [
    "You should see the robot move in the same exact way!\n",
    "\n",
    "(訳) 同じ方法で、ロボットを動かしていきましょう。"
   ]
  },
  {
   "cell_type": "markdown",
   "metadata": {},
   "source": [
    "### Link motors to traitlets(Traitletsにモーターを紐付ける)"
   ]
  },
  {
   "cell_type": "markdown",
   "metadata": {},
   "source": [
    "A really cool feature about these [traitlets](https://github.com/ipython/traitlets) is that we can \n",
    "also link them to other traitlets!  This is super handy because Jupyter Notebooks allow us\n",
    "to make graphical ``widgets`` that use traitlets under the hood.  This means we can attach\n",
    "our motors to ``widgets`` to control them from the browser, or just visualize the value.\n",
    "\n",
    "(訳) [traitlets](https://github.com/ipython/traitlets)の本当にいけている機能として、他のtraitletsに紐付ける事ができる事にあります! Jupyter Notebook内で、trailetsを使う事で、グラフィカルな``widgets``を作ることが可能になり、とても便利です。ブラウザからのコントロールする``widgets``とモーターを紐付けたり、値のビジュアルに紐付けたりが可能となる。\n",
    "\n",
    "To show how to do this, let's create and display two sliders that we'll use to control our motors.\n",
    "\n",
    "(訳) これをどのようにすればいいかを示してみます。モーターをコントロール可能なサイドバーを作成し、表示してみましょう。"
   ]
  },
  {
   "cell_type": "code",
   "execution_count": null,
   "metadata": {},
   "outputs": [],
   "source": [
    "import ipywidgets.widgets as widgets\n",
    "from IPython.display import display\n",
    "\n",
    "# create two sliders with range [-1.0, 1.0]\n",
    "left_slider = widgets.FloatSlider(description='left', min=-1.0, max=1.0, step=0.01, orientation='vertical')\n",
    "right_slider = widgets.FloatSlider(description='right', min=-1.0, max=1.0, step=0.01, orientation='vertical')\n",
    "\n",
    "# create a horizontal box container to place the sliders next to eachother\n",
    "slider_container = widgets.HBox([left_slider, right_slider])\n",
    "\n",
    "# display the container in this cell's output\n",
    "display(slider_container)"
   ]
  },
  {
   "cell_type": "markdown",
   "metadata": {},
   "source": [
    "You should see two ``vertical`` sliders displayed above. \n",
    "\n",
    "(訳) 2つの``vertical``なサイドバーを下側に表示できたでしょう。\n",
    "\n",
    "> HELPFUL TIP:  In Jupyter Lab, you can actually \"pop\" the output of cells into entirely separate window!  It will still be \n",
    "> connected to the notebook, but displayed separately.  This is helpful if we want to pin the output of code we executed elsewhere.\n",
    "> To do this, right click the output of the cell and select ``Create New View for Output``.  You can then drag the new window\n",
    "> to a location you find pleasing.\n",
    "\n",
    "> (訳) 訳にたつTip: Juputer Labでは、セパレートWindowの中にセルのアウトプットをポンと出す事ができる。notebookには接続したままで、分けて表示できる。セルの出力の上で右クリックを押し、表示されたメニューから``Create New View Output``を選択する。あなたが心じよいと思う場所に、ドラッグして移動できます。\n",
    "\n",
    "Try clicking and dragging the sliders up and down.  Notice nothing happens when we move the sliders currently.  That's because we haven't connected them to motors yet!  We'll do that by using the ``link`` function from the traitlets package.\n",
    "\n",
    "(訳) sliders upとdownをクリックしドラッグしてみてください。 今の段階では、slidersを移動しても、何もおきません。まだ、モーターに接続をしていないためです。traitletsパッケージの``link``関数を使って、関連づけをします。"
   ]
  },
  {
   "cell_type": "code",
   "execution_count": null,
   "metadata": {},
   "outputs": [],
   "source": [
    "import traitlets\n",
    "\n",
    "left_link = traitlets.link((left_slider, 'value'), (robot.left_motor, 'value'))\n",
    "right_link = traitlets.link((right_slider, 'value'), (robot.right_motor, 'value'))"
   ]
  },
  {
   "cell_type": "markdown",
   "metadata": {},
   "source": [
    "Now try dragging the sliders (slowly at first).  You should see the respective motor turn!\n",
    "\n",
    "(訳) slidersをドラックしてみてください、それぞれのモーターが回転し始めます。\n",
    "\n",
    "The ``link`` function that we created above actually creates a bi-directional link!  That means,\n",
    "if we set the motor values elsewhere, the sliders will update!  Try executing the code block below\n",
    "\n",
    "(訳) 実際に生成された``link``関数は、双方向リンクになっています。これの意味するところは、モーターの値を変更したかったら、siliderをUpdateしてください。下のブロックのコードを実行します。"
   ]
  },
  {
   "cell_type": "code",
   "execution_count": null,
   "metadata": {},
   "outputs": [],
   "source": [
    "robot.forward(0.3)\n",
    "time.sleep(1.0)\n",
    "robot.stop()"
   ]
  },
  {
   "cell_type": "markdown",
   "metadata": {},
   "source": [
    "You should see the sliders respond to the motor commands!  If we want to remove this connection we can call the\n",
    "``unlink`` method of each link.\n",
    "\n",
    "(訳) モーターコマンドレスポンスもslidersに反映されます。もし、コネクションを削除したい場合は、``unkinl``メソッドをそれぞれ呼び出します。"
   ]
  },
  {
   "cell_type": "code",
   "execution_count": null,
   "metadata": {},
   "outputs": [],
   "source": [
    "left_link.unlink()\n",
    "right_link.unlink()"
   ]
  },
  {
   "cell_type": "markdown",
   "metadata": {},
   "source": [
    "But what if we don't want a *bi-directional* link, let's say we only want to use the sliders to display the motor values,\n",
    "but not control them.  For that we can use the ``dlink`` function.  The left input is the ``source`` and the right input is the ``target``\n",
    "\n",
    "(訳)しかし、もし双方向リンクは必要としない場合、。モーターの値を表示するためにsliderを使う事もできる。そのために``dlink``関数を使います。左側が``source``で右側が``target``になります。　"
   ]
  },
  {
   "cell_type": "code",
   "execution_count": null,
   "metadata": {},
   "outputs": [],
   "source": [
    "left_link = traitlets.dlink((robot.left_motor, 'value'), (left_slider, 'value'))\n",
    "right_link = traitlets.dlink((robot.right_motor, 'value'), (right_slider, 'value'))"
   ]
  },
  {
   "cell_type": "markdown",
   "metadata": {},
   "source": [
    "Now try moving the sliders.  You should see that the robot doesn't respond.  But when set the motors using a different method,\n",
    "the sliders will update and display the value!\n",
    "\n",
    "(訳) sliderを動かしてみてください。robotは反応しなくなります。違う方法でモーターの値を変更すると、sliderの位置はUpdateされてその値が表示されます。"
   ]
  },
  {
   "cell_type": "markdown",
   "metadata": {},
   "source": [
    "### Attach functions to events(イベントを関数に対応づける)"
   ]
  },
  {
   "cell_type": "markdown",
   "metadata": {},
   "source": [
    "Another way to use traitlets, is by attaching functions (like ``forward``) to events.  These\n",
    "functions will get called whenever a change to the object occurs, and will be passed some information about that change\n",
    "like the ``old`` value and the ``new`` value.  \n",
    "\n",
    "(訳) traitletsを使とは違う方法として、関数をイベントに対応づける事も可能です。これらの関数は、objectが変更されるたびに、呼び出されます。``old``や``new``のように変化の情報も送られます。\n",
    "\n",
    "Let's create and display some buttons that we'll use to control the robot.\n",
    "\n",
    "(訳) ロボットをコントロールするボタンを作成し、表示しましょう。"
   ]
  },
  {
   "cell_type": "code",
   "execution_count": null,
   "metadata": {},
   "outputs": [],
   "source": [
    "# create buttons\n",
    "button_layout = widgets.Layout(width='100px', height='80px', align_self='center')\n",
    "stop_button = widgets.Button(description='stop', button_style='danger', layout=button_layout)\n",
    "forward_button = widgets.Button(description='forward', layout=button_layout)\n",
    "backward_button = widgets.Button(description='backward', layout=button_layout)\n",
    "left_button = widgets.Button(description='left', layout=button_layout)\n",
    "right_button = widgets.Button(description='right', layout=button_layout)\n",
    "\n",
    "# display buttons\n",
    "middle_box = widgets.HBox([left_button, stop_button, right_button], layout=widgets.Layout(align_self='center'))\n",
    "controls_box = widgets.VBox([forward_button, middle_box, backward_button])\n",
    "display(controls_box)"
   ]
  },
  {
   "cell_type": "markdown",
   "metadata": {},
   "source": [
    "You should see a set of robot controls displayed above!  But right now they wont do anything.  To do that\n",
    "we'll need to create some functions that we'll attach to the button's ``on_click`` event.  \n",
    "\n",
    "(訳) 下側にRobot Controlのセットが表示されたでしょう。でも、まだ何も反応しません。ボタンの``on_click``イベントに関連するいくつかの関数を作成する必要があります。"
   ]
  },
  {
   "cell_type": "code",
   "execution_count": null,
   "metadata": {},
   "outputs": [],
   "source": [
    "def stop(change):\n",
    "    robot.stop()\n",
    "    \n",
    "def step_forward(change):\n",
    "    robot.forward(0.4)\n",
    "    time.sleep(0.5)\n",
    "    robot.stop()\n",
    "\n",
    "def step_backward(change):\n",
    "    robot.backward(0.4)\n",
    "    time.sleep(0.5)\n",
    "    robot.stop()\n",
    "\n",
    "def step_left(change):\n",
    "    robot.left(0.3)\n",
    "    time.sleep(0.5)\n",
    "    robot.stop()\n",
    "\n",
    "def step_right(change):\n",
    "    robot.right(0.3)\n",
    "    time.sleep(0.5)\n",
    "    robot.stop()"
   ]
  },
  {
   "cell_type": "markdown",
   "metadata": {},
   "source": [
    "Now that we've defined the functions, let's attach them to the on-click events of each button\n",
    "\n",
    "(訳) これで関数が定義できました。こららの関数に、on-clickイベントでそれぞれのボタンを対応づけます。"
   ]
  },
  {
   "cell_type": "code",
   "execution_count": null,
   "metadata": {},
   "outputs": [],
   "source": [
    "# link buttons to actions\n",
    "stop_button.on_click(stop)\n",
    "forward_button.on_click(step_forward)\n",
    "backward_button.on_click(step_backward)\n",
    "left_button.on_click(step_left)\n",
    "right_button.on_click(step_right)"
   ]
  },
  {
   "cell_type": "markdown",
   "metadata": {},
   "source": [
    "Now when you click each button, you should see the robot move!\n",
    "\n",
    "(訳) それぞれのボタンをクリックすると、Robotが動いたでしょう!"
   ]
  },
  {
   "cell_type": "markdown",
   "metadata": {},
   "source": [
    "### Heartbeat Killswitch\n",
    "\n",
    "Here we show how to connect a 'heartbeat' to stop the robot from moving.  This is a simple way to detect if the robot connection is alive.  You can lower the slider below to reduce the period (in seconds) of the heartbeat.  If a round-trip communication between broswer cannot be made within two heartbeats, the '`status`' attribute of the heartbeat will be set ``dead``.  As soon as the connection is restored, the ``status`` attribute will return to ``alive``.\n",
    "\n",
    "ここでは、動いているロボットを止めるための'heartbeat'との接続方法について解説します。これは、ロボットとのコミュニケーションが有効な場合に、シンプルに特定する方法です。あなたは、ハートビートの期間を短縮するには、下記のスライダーを下げます。もし、ブラウザ間の双方向のコミュニケーションが、2つのheartbeatの中で生成できなかったらheartbeatの'`status`'属性が、``dead``にセットされます。コネクションが復元されるとすぐに、heartbeatの'`status`'属性が、``alive``に変わります。"
   ]
  },
  {
   "cell_type": "code",
   "execution_count": null,
   "metadata": {},
   "outputs": [],
   "source": [
    "from jetbot import Heartbeat\n",
    "\n",
    "heartbeat = Heartbeat()\n",
    "\n",
    "# this function will be called when heartbeat 'alive' status changes\n",
    "def handle_heartbeat_status(change):\n",
    "    if change['new'] == Heartbeat.Status.dead:\n",
    "        robot.stop()\n",
    "        \n",
    "heartbeat.observe(handle_heartbeat_status, names='status')\n",
    "\n",
    "period_slider = widgets.FloatSlider(description='period', min=0.001, max=0.5, step=0.01, value=0.5)\n",
    "traitlets.dlink((period_slider, 'value'), (heartbeat, 'period'))\n",
    "\n",
    "display(period_slider, heartbeat.pulseout)"
   ]
  },
  {
   "cell_type": "markdown",
   "metadata": {},
   "source": [
    "Try executing the code below to start the motors, and then lower the slider to see what happens.  You can also try disconnecting your robot or PC.\n",
    "\n",
    "(訳) 下記のコードを実行し、sliderを下げるとどうなるかみてみます。また、ロボットとPCを切断するとどうなるかみてみます。"
   ]
  },
  {
   "cell_type": "code",
   "execution_count": null,
   "metadata": {},
   "outputs": [],
   "source": [
    "robot.left(0.2) \n",
    "\n",
    "# now lower the `period` slider above until the network heartbeat can't be satisfied"
   ]
  },
  {
   "cell_type": "markdown",
   "metadata": {},
   "source": [
    "### Conclusion\n",
    "\n",
    "That's it for this example notebook!  Hopefully you feel confident that you can program your robot to move around now :)\n",
    "\n",
    "(訳) notebookの例は以上です。これで、ロボットをプログラムして、動き回れせることができると自信を持っていただければ幸いです。"
   ]
  },
  {
   "cell_type": "code",
   "execution_count": null,
   "metadata": {},
   "outputs": [],
   "source": []
  }
 ],
 "metadata": {
  "kernelspec": {
   "display_name": "Python 3",
   "language": "python",
   "name": "python3"
  },
  "language_info": {
   "codemirror_mode": {
    "name": "ipython",
    "version": 3
   },
   "file_extension": ".py",
   "mimetype": "text/x-python",
   "name": "python",
   "nbconvert_exporter": "python",
   "pygments_lexer": "ipython3",
   "version": "3.6.7"
  }
 },
 "nbformat": 4,
 "nbformat_minor": 2
}
