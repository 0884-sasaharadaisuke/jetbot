{
 "cells": [
  {
   "cell_type": "code",
   "execution_count": 17,
   "metadata": {},
   "outputs": [],
   "source": [
    "import torch\n",
    "import torch.optim as optim\n",
    "import torch.nn.functional as F\n",
    "import torchvision\n",
    "import torchvision.datasets as datasets\n",
    "import torchvision.models as models\n",
    "import torchvision.transforms as transforms\n",
    "import glob\n",
    "import PIL.Image\n",
    "import os\n",
    "import numpy as np"
   ]
  },
  {
   "cell_type": "code",
   "execution_count": 15,
   "metadata": {},
   "outputs": [
    {
     "data": {
      "text/plain": [
       "0.8951119925011539"
      ]
     },
     "execution_count": 15,
     "metadata": {},
     "output_type": "execute_result"
    }
   ],
   "source": [
    "float(np.random.rand(1))"
   ]
  },
  {
   "cell_type": "code",
   "execution_count": 9,
   "metadata": {},
   "outputs": [],
   "source": [
    "!unzip -q lego_city_dataset_forward_2019-03-15_21-01-35.zip"
   ]
  },
  {
   "cell_type": "code",
   "execution_count": 2,
   "metadata": {},
   "outputs": [],
   "source": [
    "NBINS = 21"
   ]
  },
  {
   "cell_type": "code",
   "execution_count": 18,
   "metadata": {},
   "outputs": [],
   "source": [
    "def get_steering(path):\n",
    "    return (float(int(path[9:12])) - 50.0) / 50.0\n",
    "\n",
    "def get_gaussian(mean, stdev, nbins):\n",
    "    x = np.linspace(-1.0, 1.0, num=nbins)\n",
    "    y = np.exp(-(x - mean)**2 / (stdev**2))\n",
    "    return y\n",
    "\n",
    "def get_bin(value, nbins):\n",
    "    return np.digitize(value, np.linspace(-1.0, 1.0, num=nbins))\n",
    "\n",
    "class SteeringDataset(torch.utils.data.Dataset):\n",
    "    \n",
    "    def __init__(self, directory, stdev=0.3, nbins=21):\n",
    "        self.nbins = nbins\n",
    "        self.stdev = stdev\n",
    "        self.directory = directory\n",
    "        self.image_paths = glob.glob(os.path.join(directory, '*.jpg'))\n",
    "        self.color_jitter = transforms.ColorJitter(0.1, 0.1, 0.1, 0.1)\n",
    "    \n",
    "    def __len__(self):\n",
    "        return len(self.image_paths)\n",
    "    \n",
    "    def __getitem__(self, idx):\n",
    "        image_path = self.image_paths[idx]\n",
    "        image = PIL.Image.open(image_path)\n",
    "        \n",
    "        image = self.color_jitter(image)\n",
    "        image = transforms.functional.resize(image, (224, 224))\n",
    "        image = transforms.functional.to_tensor(image)\n",
    "        image = transforms.functional.normalize(image, [0.485, 0.456, 0.406], [0.229, 0.224, 0.225])\n",
    "        \n",
    "        steering = float(get_steering(os.path.basename(image_path)))\n",
    "        #target = get_gaussian(steering, self.stdev, self.nbins)\n",
    "        #target = get_bin(steering, self.nbins)\n",
    "        \n",
    "        return image, torch.tensor([steering]).float()\n",
    "    \n",
    "    \n",
    "class MergedSteeringDataset(torch.utils.data.Dataset):\n",
    "    \n",
    "    def __init__(self, all_dir, task_dir, flipped=False):\n",
    "        self.flipped = flipped\n",
    "        self.all_dir = all_dir\n",
    "        self.task_dir = task_dir\n",
    "        self.all_image_paths = glob.glob(os.path.join(self.all_dir, '*.jpg'))\n",
    "        self.task_image_paths = glob.glob(os.path.join(self.task_dir, '*.jpg'))\n",
    "        self.color_jitter = transforms.ColorJitter(0.1, 0.1, 0.1, 0.1)\n",
    "    \n",
    "    def __len__(self):\n",
    "        return len(self.all_image_paths) + len(self.task_image_paths)\n",
    "    \n",
    "    def __getitem__(self, idx):\n",
    "        flip_all = False\n",
    "        if idx < len(self.all_image_paths):\n",
    "            image_path = self.all_image_paths[idx]\n",
    "            \n",
    "            if float(np.random.rand(1)) > 0.5:\n",
    "                flip_all = True\n",
    "        else:\n",
    "            image_path = self.task_image_paths[idx - len(self.all_image_paths)]\n",
    "        \n",
    "        image = PIL.Image.open(image_path)\n",
    "        steering = float(get_steering(os.path.basename(image_path)))\n",
    "        \n",
    "        if self.flipped:\n",
    "            image = transforms.functional.hflip(image)\n",
    "            steering = -steering\n",
    "        \n",
    "        if flip_all:\n",
    "            image = transforms.functional.hflip(image)\n",
    "            steering = -steering\n",
    "            \n",
    "        image = self.color_jitter(image)\n",
    "        image = transforms.functional.resize(image, (224, 224))\n",
    "        image = transforms.functional.to_tensor(image)\n",
    "        image = transforms.functional.normalize(image, [0.485, 0.456, 0.406], [0.229, 0.224, 0.225])\n",
    "        \n",
    "        #target = get_gaussian(steering, self.stdev, self.nbins)\n",
    "        #target = get_bin(steering, self.nbins)\n",
    "        \n",
    "        return image, torch.tensor([steering]).float()"
   ]
  },
  {
   "cell_type": "code",
   "execution_count": 20,
   "metadata": {},
   "outputs": [],
   "source": [
    "dataset = MergedSteeringDataset('dataset_all', 'dataset_right', flipped=False)\n",
    "\n",
    "test_percent = 0.1\n",
    "num_test = int(test_percent * len(dataset))\n",
    "train_dataset, test_dataset = torch.utils.data.random_split(dataset, [len(dataset) - num_test, num_test])\n",
    "\n",
    "train_loader = torch.utils.data.DataLoader(\n",
    "    train_dataset,\n",
    "    batch_size=64,\n",
    "    shuffle=True,\n",
    "    num_workers=4\n",
    ")\n",
    "\n",
    "test_loader = torch.utils.data.DataLoader(\n",
    "    test_dataset,\n",
    "    batch_size=64,\n",
    "    shuffle=True,\n",
    "    num_workers=4\n",
    ")"
   ]
  },
  {
   "cell_type": "code",
   "execution_count": 21,
   "metadata": {},
   "outputs": [],
   "source": [
    "model = models.resnet18(pretrained=True)\n",
    "model.fc = torch.nn.Linear(512, 1)\n",
    "device = torch.device('cuda')\n",
    "model = model.to(device)"
   ]
  },
  {
   "cell_type": "markdown",
   "metadata": {},
   "source": [
    "# train regression:"
   ]
  },
  {
   "cell_type": "code",
   "execution_count": 22,
   "metadata": {},
   "outputs": [
    {
     "name": "stdout",
     "output_type": "stream",
     "text": [
      "0.626841, 0.768184\n",
      "0.084167, 0.338674\n",
      "0.046371, 0.038911\n",
      "0.024569, 0.031243\n",
      "0.018465, 0.016597\n",
      "0.016692, 0.027060\n",
      "0.023692, 0.034505\n",
      "0.012317, 0.010997\n",
      "0.008204, 0.102105\n",
      "0.015391, 0.009672\n",
      "0.010738, 0.017054\n",
      "0.013146, 0.011873\n",
      "0.012604, 0.020328\n",
      "0.013090, 0.012819\n",
      "0.013647, 0.010928\n",
      "0.013019, 0.017836\n",
      "0.010607, 0.018431\n",
      "0.007052, 0.007699\n",
      "0.007029, 0.007391\n",
      "0.006412, 0.008054\n",
      "0.010974, 0.008271\n",
      "0.005069, 0.009363\n",
      "0.018893, 0.033706\n",
      "0.008549, 0.025291\n",
      "0.006550, 0.006439\n",
      "0.005896, 0.009165\n",
      "0.003996, 0.010436\n",
      "0.006265, 0.005211\n",
      "0.005118, 0.015055\n",
      "0.006258, 0.006032\n",
      "0.003506, 0.007355\n",
      "0.004647, 0.011738\n",
      "0.006839, 0.008705\n",
      "0.009377, 0.012228\n",
      "0.008872, 0.010145\n",
      "0.008494, 0.020101\n",
      "0.008707, 0.008721\n",
      "0.007771, 0.010352\n",
      "0.005282, 0.015519\n",
      "0.006680, 0.032582\n",
      "0.012041, 0.090892\n",
      "0.008586, 0.020881\n",
      "0.011095, 0.012493\n",
      "0.009631, 0.022652\n",
      "0.006769, 0.009988\n",
      "0.003582, 0.010311\n",
      "0.007742, 0.010416\n",
      "0.008045, 0.029259\n",
      "0.009974, 0.018516\n",
      "0.006367, 0.010252\n",
      "0.002974, 0.012123\n",
      "0.007546, 0.015420\n",
      "0.017131, 0.011395\n",
      "0.005828, 0.006574\n",
      "0.003864, 0.041356\n",
      "0.005046, 0.016871\n",
      "0.003870, 0.009510\n",
      "0.005912, 0.007035\n",
      "0.002740, 0.013614\n",
      "0.003529, 0.013565\n"
     ]
    }
   ],
   "source": [
    "NUM_EPOCHS = 60\n",
    "BEST_MODEL_PATH = 'best_steering_model_right_merged.pth'\n",
    "best_loss = 1e9\n",
    "\n",
    "#optimizer = optim.SGD(model.parameters(), lr=0.0001, momentum=0.9)\n",
    "optimizer = optim.Adam(model.parameters())\n",
    "\n",
    "for epoch in range(NUM_EPOCHS):\n",
    "    \n",
    "    model.train()\n",
    "    train_loss = 0.0\n",
    "    for images, labels in iter(train_loader):\n",
    "        images = images.to(device)\n",
    "        labels = labels.to(device)\n",
    "        optimizer.zero_grad()\n",
    "        outputs = model(images)\n",
    "        loss = F.mse_loss(outputs, labels)\n",
    "        train_loss += loss\n",
    "        loss.backward()\n",
    "        optimizer.step()\n",
    "    train_loss /= len(train_loader)\n",
    "    \n",
    "    model.eval()\n",
    "    test_loss = 0.0\n",
    "    for images, labels in iter(test_loader):\n",
    "        images = images.to(device)\n",
    "        labels = labels.to(device)\n",
    "        outputs = model(images)\n",
    "        loss = F.mse_loss(outputs, labels)\n",
    "        test_loss += loss\n",
    "    test_loss /= len(test_loader)\n",
    "    \n",
    "    print('%f, %f' % (train_loss, test_loss))\n",
    "    if test_loss < best_loss:\n",
    "        torch.save(model.state_dict(), BEST_MODEL_PATH)\n",
    "        best_loss = test_loss"
   ]
  },
  {
   "cell_type": "code",
   "execution_count": 7,
   "metadata": {},
   "outputs": [],
   "source": [
    "torch.save(model.state_dict(), BEST_MODEL_PATH)"
   ]
  },
  {
   "cell_type": "code",
   "execution_count": 23,
   "metadata": {},
   "outputs": [],
   "source": [
    "torch.save(model.state_dict(), 'best_steering_model_right_merged_end.pth')"
   ]
  }
 ],
 "metadata": {
  "kernelspec": {
   "display_name": "Python 3",
   "language": "python",
   "name": "python3"
  },
  "language_info": {
   "codemirror_mode": {
    "name": "ipython",
    "version": 3
   },
   "file_extension": ".py",
   "mimetype": "text/x-python",
   "name": "python",
   "nbconvert_exporter": "python",
   "pygments_lexer": "ipython3",
   "version": "3.5.2"
  }
 },
 "nbformat": 4,
 "nbformat_minor": 2
}
