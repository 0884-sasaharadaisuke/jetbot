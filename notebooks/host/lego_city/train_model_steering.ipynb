{
 "cells": [
  {
   "cell_type": "code",
   "execution_count": null,
   "metadata": {},
   "outputs": [],
   "source": [
    "import torch\n",
    "import torch.optim as optim\n",
    "import torch.nn.functional as F\n",
    "import torchvision\n",
    "import torchvision.datasets as datasets\n",
    "import torchvision.models as models\n",
    "import torchvision.transforms as transforms\n",
    "import glob\n",
    "import PIL.Image\n",
    "import os\n",
    "import numpy as np"
   ]
  },
  {
   "cell_type": "code",
   "execution_count": null,
   "metadata": {},
   "outputs": [],
   "source": [
    "!unzip -q lego_city_dataset_right_2019-03-15_13-23-46.zip"
   ]
  },
  {
   "cell_type": "code",
   "execution_count": null,
   "metadata": {},
   "outputs": [],
   "source": [
    "NBINS = 21"
   ]
  },
  {
   "cell_type": "code",
   "execution_count": null,
   "metadata": {},
   "outputs": [],
   "source": [
    "def get_steering(path):\n",
    "    return (float(int(path[9:12])) - 50.0) / 50.0\n",
    "\n",
    "def get_gaussian(mean, stdev, nbins):\n",
    "    x = np.linspace(-1.0, 1.0, num=nbins)\n",
    "    y = np.exp(-(x - mean)**2 / (stdev**2))\n",
    "    return y\n",
    "\n",
    "def get_bin(value, nbins):\n",
    "    return np.digitize(value, np.linspace(-1.0, 1.0, num=nbins))\n",
    "\n",
    "class SteeringDataset(torch.utils.data.Dataset):\n",
    "    \n",
    "    def __init__(self, directory, stdev=0.3, nbins=21):\n",
    "        self.nbins = nbins\n",
    "        self.stdev = stdev\n",
    "        self.directory = directory\n",
    "        self.image_paths = glob.glob(os.path.join(directory, '*.jpg'))\n",
    "        self.color_jitter = transforms.ColorJitter(0.1, 0.1, 0.1, 0.1)\n",
    "    \n",
    "    def __len__(self):\n",
    "        return len(self.image_paths)\n",
    "    \n",
    "    def __getitem__(self, idx):\n",
    "        image_path = self.image_paths[idx]\n",
    "        image = PIL.Image.open(image_path)\n",
    "        \n",
    "        image = self.color_jitter(image)\n",
    "        image = transforms.functional.resize(image, (224, 224))\n",
    "        image = transforms.functional.to_tensor(image)\n",
    "        image = transforms.functional.normalize(image, [0.485, 0.456, 0.406], [0.229, 0.224, 0.225])\n",
    "        \n",
    "        steering = float(get_steering(os.path.basename(image_path)))\n",
    "        #target = get_gaussian(steering, self.stdev, self.nbins)\n",
    "        #target = get_bin(steering, self.nbins)\n",
    "        \n",
    "        return image, torch.tensor([steering]).float()\n",
    "    \n",
    "    \n",
    "class MergedSteeringDataset(torch.utils.data.Dataset):\n",
    "    \n",
    "    def __init__(self, all_dir, task_dir):\n",
    "        self.all_dir = all_dir\n",
    "        self.task_dir = task_dir\n",
    "        self.all_image_paths = glob.glob(os.path.join(self.all_dir, '*.jpg'))\n",
    "        self.task_image_paths = glob.glob(os.path.join(self.task_dir, '*.jpg'))\n",
    "        self.color_jitter = transforms.ColorJitter(0.1, 0.1, 0.1, 0.1)\n",
    "    \n",
    "    def __len__(self):\n",
    "        return len(self.all_image_paths) + len(self.task_image_paths)\n",
    "    \n",
    "    def __getitem__(self, idx):\n",
    "        if idx < len(self.all_image_paths):\n",
    "            image_path = self.all_image_paths[idx]\n",
    "        else:\n",
    "            image_path = self.task_image_paths[idx - len(self.all_image_paths)]\n",
    "        \n",
    "        image = PIL.Image.open(image_path)\n",
    "        steering = float(get_steering(os.path.basename(image_path)))\n",
    "        \n",
    "        image = self.color_jitter(image)\n",
    "        image = transforms.functional.resize(image, (224, 224))\n",
    "        image = transforms.functional.to_tensor(image)\n",
    "        image = transforms.functional.normalize(image, [0.485, 0.456, 0.406], [0.229, 0.224, 0.225])\n",
    "        \n",
    "        #target = get_gaussian(steering, self.stdev, self.nbins)\n",
    "        #target = get_bin(steering, self.nbins)\n",
    "        \n",
    "        return image, torch.tensor([steering]).float()\n",
    "    "
   ]
  },
  {
   "cell_type": "code",
   "execution_count": null,
   "metadata": {},
   "outputs": [],
   "source": [
    "dataset = MergedSteeringDataset('dataset_all', 'dataset_left')\n",
    "\n",
    "test_percent = 0.1\n",
    "num_test = int(test_percent * len(dataset))\n",
    "train_dataset, test_dataset = torch.utils.data.random_split(dataset, [len(dataset) - num_test, num_test])\n",
    "\n",
    "train_loader = torch.utils.data.DataLoader(\n",
    "    train_dataset,\n",
    "    batch_size=64,\n",
    "    shuffle=True,\n",
    "    num_workers=4\n",
    ")\n",
    "\n",
    "test_loader = torch.utils.data.DataLoader(\n",
    "    test_dataset,\n",
    "    batch_size=64,\n",
    "    shuffle=True,\n",
    "    num_workers=4\n",
    ")"
   ]
  },
  {
   "cell_type": "code",
   "execution_count": null,
   "metadata": {},
   "outputs": [],
   "source": [
    "model = models.resnet18(pretrained=True)\n",
    "model.fc = torch.nn.Linear(512, 1)\n",
    "device = torch.device('cuda')\n",
    "model = model.to(device)"
   ]
  },
  {
   "cell_type": "markdown",
   "metadata": {},
   "source": [
    "# train regression:"
   ]
  },
  {
   "cell_type": "code",
   "execution_count": null,
   "metadata": {},
   "outputs": [],
   "source": [
    "NUM_EPOCHS = 60\n",
    "BEST_MODEL_PATH = 'best_steering_model_left_merged.pth'\n",
    "best_loss = 1e9\n",
    "\n",
    "#optimizer = optim.SGD(model.parameters(), lr=0.0001, momentum=0.9)\n",
    "optimizer = optim.Adam(model.parameters())\n",
    "\n",
    "for epoch in range(NUM_EPOCHS):\n",
    "    \n",
    "    model.train()\n",
    "    train_loss = 0.0\n",
    "    for images, labels in iter(train_loader):\n",
    "        images = images.to(device)\n",
    "        labels = labels.to(device)\n",
    "        optimizer.zero_grad()\n",
    "        outputs = model(images)\n",
    "        loss = F.mse_loss(outputs, labels)\n",
    "        train_loss += loss\n",
    "        loss.backward()\n",
    "        optimizer.step()\n",
    "    train_loss /= len(train_loader)\n",
    "    \n",
    "    model.eval()\n",
    "    test_loss = 0.0\n",
    "    for images, labels in iter(test_loader):\n",
    "        images = images.to(device)\n",
    "        labels = labels.to(device)\n",
    "        outputs = model(images)\n",
    "        loss = F.mse_loss(outputs, labels)\n",
    "        test_loss += loss\n",
    "    test_loss /= len(test_loader)\n",
    "    \n",
    "    print('%f, %f' % (train_loss, test_loss))\n",
    "    if test_loss < best_loss:\n",
    "        torch.save(model.state_dict(), BEST_MODEL_PATH)\n",
    "        best_loss = test_loss"
   ]
  },
  {
   "cell_type": "code",
   "execution_count": null,
   "metadata": {},
   "outputs": [],
   "source": [
    "torch.save(model.state_dict(), BEST_MODEL_PATH)"
   ]
  }
 ],
 "metadata": {
  "kernelspec": {
   "display_name": "Python 3",
   "language": "python",
   "name": "python3"
  },
  "language_info": {
   "codemirror_mode": {
    "name": "ipython",
    "version": 3
   },
   "file_extension": ".py",
   "mimetype": "text/x-python",
   "name": "python",
   "nbconvert_exporter": "python",
   "pygments_lexer": "ipython3",
   "version": "3.5.2"
  }
 },
 "nbformat": 4,
 "nbformat_minor": 2
}
