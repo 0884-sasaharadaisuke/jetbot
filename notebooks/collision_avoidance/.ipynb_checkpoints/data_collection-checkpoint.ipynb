{
 "cells": [
  {
   "cell_type": "markdown",
   "metadata": {},
   "source": [
    "# Collision Avoidance - Data Collection（データの収集)\n",
    "\n",
    "basic motionのノートブックを実行し、Jetbotを簡単に動かすことができ、お楽しみいただけたのではないでしょうか？ それはとてもいい経験です。でも、もっとすごいのは、JetBotは、自律的に動き回る事もできます。\n",
    "\n",
    "これはとてもハードなタスクで、多くの異なるアプローチをおこないますが、多くの問題は、より簡単なサブ問題に分類する事ができます。\n",
    "最も重要で、解決すべきサブ問題は、ロボットが危険な状況に入るのを防ぐ事です。これを*collision avoidance*と呼びます。\n",
    "\n",
    "この章のnotebookのセットでは、単体で、非常に用途が広い、センサーであるカメラとdeep learningを用いてこの問題を解決する試みをおこないます。ニューラルネットワーク、カメラ、およびNVIDIA Jetson Nanoを使用して、ロボットに非常に有用な動作を教える方法が理解できるようになるでしょう。\n",
    "\n",
    "衝突を回避するためのアプローチは、ロボットの周りに仮想的な\"safety bubble\"を作り出す事でおこないます。\"safety bubble\"の中では、ロボットは、オブジェクトにぶつかることなく（または棚から落ちるなどのその他の危険な状況にならずに）円を描くように回転できます。\n",
    "\n",
    "もちろん、もちろん、ロボットはその視野内にあるものによって制限されており、ロボットの背後などにオブジェクトが置かれる状態から回避する事はできません。しかし、ロボットがこれらのシナリオ自体に入るのを防ぐことはできます。\n",
    "\n",
    "この方法は、実際やってみるととてもシンプルです。\n",
    "\n",
    "最初に、\"safety bubble\"に違反する場所のシナリオにロボットを手動で移動します。そして、``blocked``のラベルをつけます。ラベルとともに、ロボットの見ている画像もsnapshotとして保存します。\n",
    "\n",
    "次に、Robotをちょっと動かし安全な場所のシナリオに手動で移動します。そして、``free``のラベルをつけます。同様に、ラベルと一緒にsnapshotを保存します。　\n",
    "\n",
    "このnotebook、data collectionでは、これらをすべておこないます。ラベルと画像をたくさん用意できれば、表示される画像に基づいてロボットの安全バブルが侵害されているかどうかを予測するために、neural networkで*学習*するためのGPUマシンにデータをアップします。(追記: JetBotではJetBotのGPUを用いてそれ自身で学習可能です。)\n",
    "\n",
    "> 重要なメモ: Jetbotが空間で回転した場合、ロボット筐体の中心ではなく、2つのWheelの中心で回転します。これは、ロボットの安全バブルが侵害されているかどうかを推定する場合に、覚えておくべき重要事項です。正確である必要はないので、心配はしないでください。疑わしい場合は、慎重な方（より大きな安全バブル）に寄りかかったほうがよい。JetBotが所定の場所に曲がって抜け出せないシナリオに入らないように注意します。"
   ]
  },
  {
   "cell_type": "markdown",
   "metadata": {},
   "source": [
    "### Display live camera feed(ライブカメラフィードを表示)\n",
    "\n",
    "それでは始めましょう。最初に、カメラの初期化と表示をおこないます。\n",
    "\n",
    "> nueral networkでは、インプットとして224x224ピクセルのイメージを使います。データセットのファイルサイズを最小化するために、カメラをそのサイズに設定します(このタスクのために動作する動作する事は確認しています)\n",
    "> いくつかのシナリオでは、画像サイズを大きくし収集し、後で目的のサイズに縮小する方がいいかもしれません。"
   ]
  },
  {
   "cell_type": "code",
   "execution_count": null,
   "metadata": {
    "scrolled": true
   },
   "outputs": [],
   "source": [
    "import traitlets\n",
    "import ipywidgets.widgets as widgets\n",
    "from IPython.display import display\n",
    "from jetbot import Camera, bgr8_to_jpeg\n",
    "\n",
    "camera = Camera.instance(width=224, height=224)\n",
    "\n",
    "image = widgets.Image(format='jpeg', width=224, height=224)  # this width and height doesn't necessarily have to match the camera\n",
    "\n",
    "camera_link = traitlets.dlink((camera, 'value'), (image, 'value'), transform=bgr8_to_jpeg)\n",
    "\n",
    "display(image)"
   ]
  },
  {
   "cell_type": "markdown",
   "metadata": {},
   "source": [
    "素晴らしい。次は、データを保存するためのディレクトリを作成しましょう。2つのサブフォルダ``free``と``block``を持つ、``dataset``フォルダを作成します。ここに、それぞれのシナリオ用の画像を置いていきます。"
   ]
  },
  {
   "cell_type": "code",
   "execution_count": null,
   "metadata": {},
   "outputs": [],
   "source": [
    "import os\n",
    "\n",
    "blocked_dir = 'dataset/blocked'\n",
    "free_dir = 'dataset/free'\n",
    "\n",
    "# we have this \"try/except\" statement because these next functions can throw an error if the directories exist already\n",
    "try:\n",
    "    os.makedirs(free_dir)\n",
    "    os.makedirs(blocked_dir)\n",
    "except FileExistsError:\n",
    "    print('Directories not created becasue they already exist')"
   ]
  },
  {
   "cell_type": "markdown",
   "metadata": {},
   "source": [
    "もし、Jupyterの左側のファイルブラウザをリフレッシュすれば、これらのディレクトリが、新規で生成された事がわかります。次に、それぞれのクラスのラベルに対応したsnapshotを保存するためのボタンを作成し、表示します。また、これまでに収集した各カテゴリの画像の数を表示するテキストボックスを追加します。``blocked``イメージの数と同じ数の``free``イメージを収集するために、これは役にたちます。また、全体で収集した画像の数を知ることも役立ちます。"
   ]
  },
  {
   "cell_type": "code",
   "execution_count": null,
   "metadata": {},
   "outputs": [],
   "source": [
    "button_layout = widgets.Layout(width='128px', height='64px')\n",
    "free_button = widgets.Button(description='add free', button_style='success', layout=button_layout)\n",
    "blocked_button = widgets.Button(description='add blocked', button_style='danger', layout=button_layout)\n",
    "free_count = widgets.IntText(layout=button_layout, value=len(os.listdir(free_dir)))\n",
    "blocked_count = widgets.IntText(layout=button_layout, value=len(os.listdir(blocked_dir)))\n",
    "\n",
    "display(widgets.HBox([free_count, free_button]))\n",
    "display(widgets.HBox([blocked_count, blocked_button]))"
   ]
  },
  {
   "cell_type": "markdown",
   "metadata": {},
   "source": [
    "今の段階では、これらのボタンは何も反応しません。ボタンの``on_clock``イベントにそれぞれのカテゴリのためのイメージを保存する関数を対応づけます。`` Image``ウィジェット（カメラではなく）は、既に圧縮されたJPEG形式ですので、値を保存します。\n",
    "\n",
    "(異なるマシン間でも) 同じファイル名にならないうように気をつけます。ユニークな識別子を定義するために、Pythonの``uuid``パッケージを使います。このユニークな識別子は、現在時刻とマシンなどの情報から生成されます。"
   ]
  },
  {
   "cell_type": "code",
   "execution_count": null,
   "metadata": {},
   "outputs": [],
   "source": [
    "from uuid import uuid1\n",
    "\n",
    "def save_snapshot(directory):\n",
    "    image_path = os.path.join(directory, str(uuid1()) + '.jpg')\n",
    "    with open(image_path, 'wb') as f:\n",
    "        f.write(image.value)\n",
    "\n",
    "def save_free():\n",
    "    global free_dir, free_count\n",
    "    save_snapshot(free_dir)\n",
    "    free_count.value = len(os.listdir(free_dir))\n",
    "    \n",
    "def save_blocked():\n",
    "    global blocked_dir, blocked_count\n",
    "    save_snapshot(blocked_dir)\n",
    "    blocked_count.value = len(os.listdir(blocked_dir))\n",
    "    \n",
    "# attach the callbacks, we use a 'lambda' function to ignore the\n",
    "# parameter that the on_click event would provide to our function\n",
    "# because we don't need it.\n",
    "free_button.on_click(lambda x: save_free())\n",
    "blocked_button.on_click(lambda x: save_blocked())"
   ]
  },
  {
   "cell_type": "markdown",
   "metadata": {},
   "source": [
    "すばらしい、これでボタンを押せば``free``と``blocked``ディレクトリに画像が保存されるでしょう。これらのファイルを見るには、Jupyter Labのファイルブラウザを使います。\n",
    "\n",
    "さぁ、データを集めましょう\n",
    "\n",
    "1. blockedの場所のシナリオにロボットを起き``add blocked``を押します。\n",
    "2. freeの場所のシナリオにロボットを起き``add free``を押します。\n",
    "3. 1, 2の作業を繰り返します。\n",
    "\n",
    "> 覚えておいてください: セルの上で、右クリックを教えて``Create New View for Output``を選択しwidgetを新しいwindowに移動することができます。もしくは、下記のように一緒に再表示する事も可能です。\n",
    "\n",
    "ラベル付けのためにいくつかのTipsがあります。\n",
    "\n",
    "1. 違う操作の試行\n",
    "2. 違う証明での試行\n",
    "3. さまざまなオブジェクト/衝突タイプ、壁、棚、オブジェクトでの試行\n",
    "4. 異なる床の模様やパターン、なめらかさや、ガラスなどでの試行\n",
    "\n",
    "> 最終的に、ロボットが現実の世界で遭遇するシナリオのデータが多いほど、衝突回避の挙動は正確になります。\n",
    "大量のデータだけでなく、（上記のヒントで説明したような）*さまざまな*データを取得する事が重要で、各クラスの画像が少なくとも100枚以上、必要になります。"
   ]
  },
  {
   "cell_type": "code",
   "execution_count": null,
   "metadata": {},
   "outputs": [],
   "source": [
    "display(image)\n",
    "display(widgets.HBox([free_count, free_button]))\n",
    "display(widgets.HBox([blocked_count, blocked_button]))"
   ]
  }
 ],
 "metadata": {
  "kernelspec": {
   "display_name": "Python 3",
   "language": "python",
   "name": "python3"
  },
  "language_info": {
   "codemirror_mode": {
    "name": "ipython",
    "version": 3
   },
   "file_extension": ".py",
   "mimetype": "text/x-python",
   "name": "python",
   "nbconvert_exporter": "python",
   "pygments_lexer": "ipython3",
   "version": "3.6.7"
  }
 },
 "nbformat": 4,
 "nbformat_minor": 2
}
